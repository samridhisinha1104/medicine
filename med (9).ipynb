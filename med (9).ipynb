{
 "cells": [
  {
   "cell_type": "code",
   "execution_count": 4,
   "id": "d24714fa-af32-4201-8bc6-2992ee486d32",
   "metadata": {},
   "outputs": [],
   "source": [
    "import os\n",
    "import pandas as pd "
   ]
  },
  {
   "cell_type": "code",
   "execution_count": 6,
   "id": "d855bc15-770d-411b-9c9c-f9984dda6667",
   "metadata": {},
   "outputs": [],
   "source": [
    "import pandas as pd\n",
    "description = pd.read_csv(\"description.csv\")\n",
    "precaution = pd.read_csv(\"precautions.csv\")\n",
    "medication = pd.read_csv(\"medication.csv\")\n",
    "diets = pd.read_csv(\"diets.csv\")\n",
    "workout = pd.read_csv(\"workout.csv\")\n",
    "\n",
    "description['Disease'] = description['Disease'].astype(str).str.strip().str.lower()\n",
    "precaution['Disease'] = precaution['Disease'].astype(str).str.strip().str.lower()\n",
    "medication['Disease'] = medication['Disease'].astype(str).str.strip().str.lower()\n",
    "diets['Disease'] = diets['Disease'].astype(str).str.strip().str.lower()\n",
    "workout['disease'] = workout['disease'].astype(str).str.strip().str.lower()"
   ]
  },
  {
   "cell_type": "code",
   "execution_count": 7,
   "id": "d7871930-bc1f-4afd-a031-2567945a7662",
   "metadata": {},
   "outputs": [
    {
     "name": "stdout",
     "output_type": "stream",
     "text": [
      "(4920, 133)\n"
     ]
    }
   ],
   "source": [
    "dataset = pd.read_csv(r\"training data set.csv\")\n",
    "print(dataset.shape)"
   ]
  },
  {
   "cell_type": "code",
   "execution_count": 8,
   "id": "eea645d2-c5bf-4f6e-811a-e09c4b4c6515",
   "metadata": {},
   "outputs": [
    {
     "data": {
      "text/plain": [
       "41"
      ]
     },
     "execution_count": 8,
     "metadata": {},
     "output_type": "execute_result"
    }
   ],
   "source": [
    "len(dataset['prognosis'].unique())"
   ]
  },
  {
   "cell_type": "code",
   "execution_count": 9,
   "id": "807ef25b-f7c8-4c71-afbf-103d1db658d8",
   "metadata": {},
   "outputs": [],
   "source": [
    "description['Disease'] = description['Disease'].str.strip().str.lower()\n",
    "precaution['Disease'] = precaution['Disease'].str.strip().str.lower()\n",
    "medication['Disease'] = medication['Disease'].str.strip().str.lower()\n",
    "diets['Disease'] = diets['Disease'].str.strip().str.lower()\n",
    "workout['disease'] = workout['disease'].str.strip().str.lower()"
   ]
  },
  {
   "cell_type": "code",
   "execution_count": 11,
   "id": "94e29bbd-719c-4233-a839-1479002a19b4",
   "metadata": {},
   "outputs": [],
   "source": [
    "from sklearn.model_selection import train_test_split\n",
    "from sklearn.preprocessing import LabelEncoder"
   ]
  },
  {
   "cell_type": "code",
   "execution_count": 12,
   "id": "4c32fbb0-96a3-4497-82db-c2904fac9130",
   "metadata": {},
   "outputs": [],
   "source": [
    "X=dataset.drop(\"prognosis\", axis=1)\n",
    "y=dataset['prognosis']"
   ]
  },
  {
   "cell_type": "code",
   "execution_count": 13,
   "id": "beeb83f8-c1b8-4a7e-9264-2cc0c49436e8",
   "metadata": {},
   "outputs": [],
   "source": [
    "le= LabelEncoder()\n",
    "le.fit(y)\n",
    "Y=le.transform(y)"
   ]
  },
  {
   "cell_type": "code",
   "execution_count": 14,
   "id": "cde3c8ed-e2ac-460a-9c29-4c7bd27d5585",
   "metadata": {},
   "outputs": [
    {
     "data": {
      "text/plain": [
       "array([15, 15, 15, ..., 38, 35, 27], shape=(4920,))"
      ]
     },
     "execution_count": 14,
     "metadata": {},
     "output_type": "execute_result"
    }
   ],
   "source": [
    "Y"
   ]
  },
  {
   "cell_type": "code",
   "execution_count": 15,
   "id": "e063520a-4aa8-44c5-bf18-f05e510e5314",
   "metadata": {},
   "outputs": [],
   "source": [
    "X_train, X_test , y_train, y_test = train_test_split(X,y,test_size=0.3, random_state=20)"
   ]
  },
  {
   "cell_type": "raw",
   "id": "2ca7a97a-dd0b-4760-8b49-2469d0a106ea",
   "metadata": {},
   "source": [
    "X_train.shape,X_test.shape,y_train.shape,y_test.shape"
   ]
  },
  {
   "cell_type": "code",
   "execution_count": 16,
   "id": "d3b9ef83-7c9f-4307-8030-ff05c77928bd",
   "metadata": {},
   "outputs": [
    {
     "name": "stdout",
     "output_type": "stream",
     "text": [
      "SVC accuracy: 1.0\n",
      "SVC Confusion Matrix:\n",
      "[[40, 0, 0,..., 0, 0, 0],\n",
      " [ 0,43, 0,..., 0, 0, 0],\n",
      " [ 0, 0,28,..., 0, 0, 0],\n",
      " ...,\n",
      " [ 0, 0, 0,...,34, 0, 0],\n",
      " [ 0, 0, 0,..., 0,41, 0],\n",
      " [ 0, 0, 0,..., 0, 0,31]]\n",
      "RandomForest accuracy: 1.0\n",
      "RandomForest Confusion Matrix:\n",
      "[[40, 0, 0,..., 0, 0, 0],\n",
      " [ 0,43, 0,..., 0, 0, 0],\n",
      " [ 0, 0,28,..., 0, 0, 0],\n",
      " ...,\n",
      " [ 0, 0, 0,...,34, 0, 0],\n",
      " [ 0, 0, 0,..., 0,41, 0],\n",
      " [ 0, 0, 0,..., 0, 0,31]]\n",
      "GradientBoosting accuracy: 1.0\n",
      "GradientBoosting Confusion Matrix:\n",
      "[[40, 0, 0,..., 0, 0, 0],\n",
      " [ 0,43, 0,..., 0, 0, 0],\n",
      " [ 0, 0,28,..., 0, 0, 0],\n",
      " ...,\n",
      " [ 0, 0, 0,...,34, 0, 0],\n",
      " [ 0, 0, 0,..., 0,41, 0],\n",
      " [ 0, 0, 0,..., 0, 0,31]]\n",
      "KNeighbors accuracy: 1.0\n",
      "KNeighbors Confusion Matrix:\n",
      "[[40, 0, 0,..., 0, 0, 0],\n",
      " [ 0,43, 0,..., 0, 0, 0],\n",
      " [ 0, 0,28,..., 0, 0, 0],\n",
      " ...,\n",
      " [ 0, 0, 0,...,34, 0, 0],\n",
      " [ 0, 0, 0,..., 0,41, 0],\n",
      " [ 0, 0, 0,..., 0, 0,31]]\n",
      "MultinomialNB accuracy: 1.0\n",
      "MultinomialNB Confusion Matrix:\n",
      "[[40, 0, 0,..., 0, 0, 0],\n",
      " [ 0,43, 0,..., 0, 0, 0],\n",
      " [ 0, 0,28,..., 0, 0, 0],\n",
      " ...,\n",
      " [ 0, 0, 0,...,34, 0, 0],\n",
      " [ 0, 0, 0,..., 0,41, 0],\n",
      " [ 0, 0, 0,..., 0, 0,31]]\n"
     ]
    }
   ],
   "source": [
    "from sklearn.datasets import make_classification\n",
    "from sklearn.svm import SVC\n",
    "from sklearn.ensemble import RandomForestClassifier, GradientBoostingClassifier\n",
    "from sklearn.neighbors import KNeighborsClassifier\n",
    "from sklearn.naive_bayes import MultinomialNB\n",
    "from sklearn.metrics import accuracy_score,confusion_matrix\n",
    "import numpy as np\n",
    "#creating a dictionary to store models\n",
    "models={\n",
    "    \"SVC\":SVC(kernel=\"linear\"),\n",
    "    \"RandomForest\":RandomForestClassifier(n_estimators=100, random_state=42),\n",
    "    \"GradientBoosting\": GradientBoostingClassifier(n_estimators=100, random_state=42),\n",
    "    \"KNeighbors\": KNeighborsClassifier(n_neighbors=5),\n",
    "    \"MultinomialNB\": MultinomialNB()\n",
    "}\n",
    "# Loop through models\n",
    "for model_name, model in models.items():\n",
    "   # Train the model\n",
    "  model.fit(X_train, y_train)\n",
    "\n",
    "    # Test the model\n",
    "  predictions = model.predict(X_test)\n",
    "\n",
    "    # Calculate accuracy\n",
    "  accuracy = accuracy_score(y_test, predictions)\n",
    "\n",
    "    # Calculate confusion matrix\n",
    "  cm = confusion_matrix(y_test, predictions)\n",
    "\n",
    "    # Print results\n",
    "  print(f\"{model_name} accuracy: {accuracy}\")\n",
    "  print(f\"{model_name} Confusion Matrix:\")\n",
    "  print(np.array2string(cm, separator=','))  # Corrected the typo"
   ]
  },
  {
   "cell_type": "code",
   "execution_count": 17,
   "id": "ef25042e-1de9-4b7f-b733-479cc41d6057",
   "metadata": {},
   "outputs": [
    {
     "data": {
      "text/plain": [
       "1.0"
      ]
     },
     "execution_count": 17,
     "metadata": {},
     "output_type": "execute_result"
    }
   ],
   "source": [
    "svc=SVC(kernel=\"linear\")\n",
    "svc.fit(X_train,y_train)\n",
    "ypred= svc.predict(X_test)\n",
    "accuracy_score(y_test,ypred)"
   ]
  },
  {
   "cell_type": "code",
   "execution_count": 18,
   "id": "966d2db6-cdee-43ae-a037-d310965056b5",
   "metadata": {},
   "outputs": [],
   "source": [
    "import pickle\n",
    "import os # Import the os module\n",
    "\n",
    "# Create the 'model' directory if it doesn't exist\n",
    "os.makedirs(\"model\", exist_ok=True)\n",
    "\n",
    "pickle.dump(svc, open(\"model/svc.pkl\", \"wb\"))"
   ]
  },
  {
   "cell_type": "code",
   "execution_count": 19,
   "id": "bcd4f208-f346-4fab-b628-3ea02f83695d",
   "metadata": {},
   "outputs": [],
   "source": [
    "#load model\n",
    "svc=pickle.load(open(\"model/svc.pkl\",'rb')) # Changed 'models' to 'model' in the file path"
   ]
  },
  {
   "cell_type": "code",
   "execution_count": 20,
   "id": "07b7d3c3-6e0d-4a77-aa5f-d9b655bf2103",
   "metadata": {},
   "outputs": [
    {
     "name": "stdout",
     "output_type": "stream",
     "text": [
      "model predicted disease: ['hepatitis A']\n",
      "Actual Label: hepatitis A\n"
     ]
    },
    {
     "name": "stderr",
     "output_type": "stream",
     "text": [
      "c:\\Users\\Samridhi Sinha\\OneDrive\\Desktop\\med\\.venv\\Lib\\site-packages\\sklearn\\utils\\validation.py:2749: UserWarning: X does not have valid feature names, but SVC was fitted with feature names\n",
      "  warnings.warn(\n"
     ]
    }
   ],
   "source": [
    "#test1\n",
    "print (\"model predicted disease:\",svc.predict(X_test.iloc[0].values.reshape(1,-1)))\n",
    "# Access the first element of Y_test using iloc\n",
    "print(\"Actual Label:\",y_test.iloc[0]) # Use .iloc to access by position instead of index label"
   ]
  },
  {
   "cell_type": "code",
   "execution_count": 21,
   "id": "52ec8e40-6ca0-41bf-b208-fe27db7c89cd",
   "metadata": {},
   "outputs": [
    {
     "name": "stdout",
     "output_type": "stream",
     "text": [
      "model predicted disease: ['Hepatitis C']\n",
      "Actual Label: Hepatitis C\n"
     ]
    },
    {
     "name": "stderr",
     "output_type": "stream",
     "text": [
      "c:\\Users\\Samridhi Sinha\\OneDrive\\Desktop\\med\\.venv\\Lib\\site-packages\\sklearn\\utils\\validation.py:2749: UserWarning: X does not have valid feature names, but SVC was fitted with feature names\n",
      "  warnings.warn(\n"
     ]
    }
   ],
   "source": [
    "#test 2\n",
    "print (\"model predicted disease:\",svc.predict(X_test.iloc[10].values.reshape(1,-1)))\n",
    "# Access the first element of y_test using iloc\n",
    "print(\"Actual Label:\",y_test.iloc[10]) # Use .iloc to access by position instead of index label"
   ]
  },
  {
   "cell_type": "code",
   "execution_count": 22,
   "id": "3b716b19-42ae-4bbe-b648-0193089f0898",
   "metadata": {},
   "outputs": [
    {
     "name": "stdout",
     "output_type": "stream",
     "text": [
      "['.venv', '.vscode', 'description.csv', 'diets.csv', 'med (9).ipynb', 'medication.csv', 'model', 'precautions.csv', 'static', 'symptom.csv', 'templates', 'test.py', 'training data set.csv', 'workout.csv']\n"
     ]
    }
   ],
   "source": [
    "import os\n",
    "print(os.listdir())  # Lists all files in the current directory"
   ]
  },
  {
   "cell_type": "code",
   "execution_count": 23,
   "id": "cab19f71-236c-4282-9540-25890eb6758a",
   "metadata": {},
   "outputs": [
    {
     "name": "stdout",
     "output_type": "stream",
     "text": [
      "description.csv: (41, 2)\n",
      "precautions.csv: (41, 6)\n",
      "workout.csv: (410, 4)\n",
      "symptom.csv: (4920, 6)\n",
      "medication.csv: (41, 2)\n",
      "diets.csv: (41, 2)\n"
     ]
    }
   ],
   "source": [
    "import pandas as pd\n",
    "import os\n",
    "\n",
    "# Get current working directory\n",
    "cwd = os.getcwd()\n",
    "\n",
    "# Define file names\n",
    "file_names = [\"description.csv\", \"precautions.csv\", \"workout.csv\", \n",
    "              \"symptom.csv\", \"medication.csv\", \"diets.csv\"]\n",
    "\n",
    "# Load files\n",
    "dataframes = {}\n",
    "for file in file_names:\n",
    "    file_path = os.path.join(cwd, file)  # Construct full path\n",
    "    if os.path.exists(file_path):  # Ensure the file exists\n",
    "        dataframes[file] = pd.read_csv(file_path, encoding=\"utf-8\")\n",
    "    else:\n",
    "        print(f\"File not found: {file_path}\")\n",
    "\n",
    "# Access individual dataframes\n",
    "symptom_Description = dataframes.get(\"description.csv\")\n",
    "precaution = dataframes.get(\"precautions.csv\")\n",
    "workout = dataframes.get(\"workout.csv\")\n",
    "symptom = dataframes.get(\"symptom.csv\")\n",
    "medication = dataframes.get(\"medication.csv\")\n",
    "diets = dataframes.get(\"diets.csv\")\n",
    "\n",
    "# Check loaded data\n",
    "for name, df in dataframes.items():\n",
    "    print(f\"{name}: {df.shape}\")  # Print dataset shape"
   ]
  },
  {
   "cell_type": "code",
   "execution_count": 24,
   "id": "0af4305b-552f-4b6e-a308-5b186c840480",
   "metadata": {},
   "outputs": [],
   "source": [
    "\n",
    "# custome and helping functions\n",
    "\n",
    "def helper(dis):\n",
    "    desc = description[description['Disease'] == predicted_disease]['Description']\n",
    "    desc = \" \".join([w for w in desc])\n",
    "\n",
    "    pre = precautions[precautions['Disease'] == dis][['Precaution_1', 'Precaution_2', 'Precaution_3', 'Precaution_4']]\n",
    "    pre = [col for col in pre.values]\n",
    "\n",
    "    med = medications[medications['Disease'] == dis]['Medication']\n",
    "    med = [med for med in med.values]\n",
    "\n",
    "    die = diets[diets['Disease'] == dis]['Diet']\n",
    "    die = [die for die in die.values]\n",
    "\n",
    "    wrkout = workout[workout['disease'] == dis] ['workout']\n",
    "\n",
    "\n",
    "    return desc,pre,med,die,wrkout\n",
    "\n",
    "symptom_dict = {'itching': 0, 'skin_rash': 1, 'nodal_skin_eruptions': 2, 'continuous_sneezing': 3, 'shivering': 4, 'chills': 5, 'joint_pain': 6, 'stomach_pain': 7, 'acidity': 8, 'ulcers_on_tongue': 9, 'muscle_wasting': 10, 'vomiting': 11, 'burning_micturition': 12, 'spotting_ urination': 13, 'fatigue': 14, 'weight_gain': 15, 'anxiety': 16, 'cold_hands_and_feets': 17, 'mood_swings': 18, 'weight_loss': 19, 'restlessness': 20, 'lethargy': 21, 'patches_in_throat': 22, 'irregular_sugar_level': 23, 'cough': 24, 'high_fever': 25, 'sunken_eyes': 26, 'breathlessness': 27, 'sweating': 28, 'dehydration': 29, 'indigestion': 30, 'headache': 31, 'yellowish_skin': 32, 'dark_urine': 33, 'nausea': 34, 'loss_of_appetite': 35, 'pain_behind_the_eyes': 36, 'back_pain': 37, 'constipation': 38, 'abdominal_pain': 39, 'diarrhoea': 40, 'mild_fever': 41, 'yellow_urine': 42, 'yellowing_of_eyes': 43, 'acute_liver_failure': 44, 'fluid_overload': 45, 'swelling_of_stomach': 46, 'swelled_lymph_nodes': 47, 'malaise': 48, 'blurred_and_distorted_vision': 49, 'phlegm': 50, 'throat_irritation': 51, 'redness_of_eyes': 52, 'sinus_pressure': 53, 'runny_nose': 54, 'congestion': 55, 'chest_pain': 56, 'weakness_in_limbs': 57, 'fast_heart_rate': 58, 'pain_during_bowel_movements': 59, 'pain_in_anal_region': 60, 'bloody_stool': 61, 'irritation_in_anus': 62, 'neck_pain': 63, 'dizziness': 64, 'cramps': 65, 'bruising': 66, 'obesity': 67, 'swollen_legs': 68, 'swollen_blood_vessels': 69, 'puffy_face_and_eyes': 70, 'enlarged_thyroid': 71, 'brittle_nails': 72, 'swollen_extremeties': 73, 'excessive_hunger': 74, 'extra_marital_contacts': 75, 'drying_and_tingling_lips': 76, 'slurred_speech': 77, 'knee_pain': 78, 'hip_joint_pain': 79, 'muscle_weakness': 80, 'stiff_neck': 81, 'swelling_joints': 82, 'movement_stiffness': 83, 'spinning_movements': 84, 'loss_of_balance': 85, 'unsteadiness': 86, 'weakness_of_one_body_side': 87, 'loss_of_smell': 88, 'bladder_discomfort': 89, 'foul_smell_of urine': 90, 'continuous_feel_of_urine': 91, 'passage_of_gases': 92, 'internal_itching': 93, 'toxic_look_(typhos)': 94, 'depression': 95, 'irritability': 96, 'muscle_pain': 97, 'altered_sensorium': 98, 'red_spots_over_body': 99, 'belly_pain': 100, 'abnormal_menstruation': 101, 'dischromic _patches': 102, 'watering_from_eyes': 103, 'increased_appetite': 104, 'polyuria': 105, 'family_history': 106, 'mucoid_sputum': 107, 'rusty_sputum': 108, 'lack_of_concentration': 109, 'visual_disturbances': 110, 'receiving_blood_transfusion': 111, 'receiving_unsterile_injections': 112, 'coma': 113, 'stomach_bleeding': 114, 'distention_of_abdomen': 115, 'history_of_alcohol_consumption': 116, 'fluid_overload.1': 117, 'blood_in_sputum': 118, 'prominent_veins_on_calf': 119, 'palpitations': 120, 'painful_walking': 121, 'pus_filled_pimples': 122, 'blackheads': 123, 'scurring': 124, 'skin_peeling': 125, 'silver_like_dusting': 126, 'small_dents_in_nails': 127, 'inflammatory_nails': 128, 'blister': 129, 'red_sore_around_nose': 130, 'yellow_crust_ooze': 131}\n",
    "diseases_list = {15: 'fungal infection', 4: 'allergy', 16: 'GERD', 9: 'Chronic cholestasis', 14: 'Drug Reaction', 33: 'Peptic ulcer diseae', 1: 'AIDS', 12: 'Diabetes ', 17: 'Gastroenteritis', 6: 'Bronchial Asthma', 23: 'Hypertension ', 30: 'Migraine', 7: 'Cervical spondylosis', 32: 'Paralysis (brain hemorrhage)', 28: 'Jaundice', 29: 'Malaria', 8: 'Chicken pox', 11: 'Dengue', 37: 'Typhoid', 40: 'hepatitis A', 19: 'Hepatitis B', 20: 'Hepatitis C', 21: 'Hepatitis D', 22: 'Hepatitis E', 3: 'Alcoholic hepatitis', 36: 'Tuberculosis', 10: 'Common Cold', 34: 'Pneumonia', 13: 'Dimorphic hemmorhoids(piles)', 18: 'Heart attack', 39: 'Varicose veins', 26: 'Hypothyroidism', 24: 'Hyperthyroidism', 25: 'Hypoglycemia', 31: 'Osteoarthristis', 5: 'Arthritis', 0: '(vertigo) Paroymsal  Positional Vertigo', 2: 'Acne', 38: 'Urinary tract infection', 35: 'Psoriasis', 27: 'Impetigo'}\n",
    "\n",
    "# Model Prediction function\n",
    "def get_predicted_value(patient_symptom):\n",
    "    input_vector = np.zeros(len(symptom_dict))\n",
    "    for item in patient_symptom:\n",
    "        input_vector[symptom_dict[item]] = 1\n",
    "    return svc.predict([input_vector])[0]"
   ]
  },
  {
   "cell_type": "code",
   "execution_count": 25,
   "id": "48f90ae1-d1da-4411-970e-9e8cc056b9b6",
   "metadata": {},
   "outputs": [
    {
     "name": "stdout",
     "output_type": "stream",
     "text": [
      "\n",
      " Columns in medication: Index(['Disease', 'Medication'], dtype='object')\n",
      " Unique diseases in medication: ['fungal infection' 'allergy' 'gerd' 'chronic cholestasis' 'drug reaction']\n"
     ]
    }
   ],
   "source": [
    "# Load and clean all files\n",
    "def load_clean(path, col):\n",
    "    df = pd.read_csv(path)\n",
    "    df[col] = df[col].astype(str).str.strip().str.lower()\n",
    "    return df\n",
    "\n",
    "description = load_clean(\"description.csv\", \"Disease\")\n",
    "precaution = load_clean(\"precautions.csv\", \"Disease\")\n",
    "medication = load_clean(\"medication.csv\", \"Disease\")\n",
    "diets = load_clean(\"diets.csv\", \"Disease\")\n",
    "workout = load_clean(\"workout.csv\", \"disease\")  # lowercase 'd'\n",
    "\n",
    "# Double check structure\n",
    "print(\"\\n Columns in medication:\", medication.columns)\n",
    "print(\" Unique diseases in medication:\", medication['Disease'].unique()[:5])"
   ]
  },
  {
   "cell_type": "code",
   "execution_count": 26,
   "id": "f2b51ac1-60ea-4f38-80a4-0c483a0212f3",
   "metadata": {},
   "outputs": [],
   "source": [
    "def helper(dis):\n",
    "    dis = str(dis).strip().lower()\n",
    "\n",
    "    desc_row = description[description['Disease'] == dis]['Description']\n",
    "    desc = \" \".join(desc_row.values) if not desc_row.empty else \"Description not available.\"\n",
    "\n",
    "    pre_row = precaution[precaution['Disease'] == dis]\n",
    "    pre = [list(pre_row[['Precaution_1', 'Precaution_2', 'Precaution_3', 'Precaution_4']].iloc[0])] if not pre_row.empty else [[\"No precautions listed.\"]]\n",
    "\n",
    "    med_row = medication[medication['Disease'] == dis]['Medication']\n",
    "    med = med_row.tolist() if not med_row.empty else [\"No medications listed.\"]\n",
    "\n",
    "    diet_row = diets[diets['Disease'] == dis]['Diet']\n",
    "    die = diet_row.tolist() if not diet_row.empty else [\"No dietary suggestions found.\"]\n",
    "\n",
    "    wrkout_row = workout[workout['disease'] == dis]['workout']\n",
    "    wrkout = wrkout_row.tolist() if not wrkout_row.empty else [\"No workouts available.\"]\n",
    "\n",
    "    return desc, pre, med, die, wrkout"
   ]
  },
  {
   "cell_type": "code",
   "execution_count": 28,
   "id": "0ff4679a-df0a-4296-bc19-d5835b6f1e05",
   "metadata": {},
   "outputs": [
    {
     "name": "stdout",
     "output_type": "stream",
     "text": [
      "=================Predicted disease============\n",
      "Fungal infection\n",
      "=================Description==================\n",
      "Fungal infection is a common skin condition caused by fungi.\n",
      "=================Precautions==================\n",
      "1 :  bath twice\n",
      "2 :  use detol or neem in bathing water\n",
      "3 :  keep infected area dry\n",
      "4 :  use clean cloths\n",
      "=================Medications==================\n",
      "5 :  ['Antifungal Cream', 'Fluconazole', 'Terbinafine', 'Clotrimazole', 'Ketoconazole']\n",
      "=================Workout==================\n",
      "6 :  Avoid sugary foods\n",
      "7 :  Consume probiotics\n",
      "8 :  Increase intake of garlic\n",
      "9 :  Include yogurt in diet\n",
      "10 :  Limit processed foods\n",
      "11 :  Stay hydrated\n",
      "12 :  Consume green tea\n",
      "13 :  Eat foods rich in zinc\n",
      "14 :  Include turmeric in diet\n",
      "15 :  Eat fruits and vegetables\n",
      "=================Diets==================\n",
      "16 :  ['Antifungal Diet', 'Probiotics', 'Garlic', 'Coconut oil', 'Turmeric']\n"
     ]
    },
    {
     "name": "stderr",
     "output_type": "stream",
     "text": [
      "c:\\Users\\Samridhi Sinha\\OneDrive\\Desktop\\med\\.venv\\Lib\\site-packages\\sklearn\\utils\\validation.py:2749: UserWarning: X does not have valid feature names, but SVC was fitted with feature names\n",
      "  warnings.warn(\n"
     ]
    }
   ],
   "source": [
    "# Test 1\n",
    "# Split the user's input into a list of symptoms (assuming they are comma-separated) # itching,skin_rash,nodal_skin_eruptions\n",
    "symptoms = input(\"Enter your symptoms.......\")\n",
    "user_symptoms = [s.strip() for s in symptoms.split(',')]\n",
    "# Remove any extra characters, if any\n",
    "user_symptoms = [symptom.strip(\"[]' \") for symptom in user_symptoms]\n",
    "predicted_disease = get_predicted_value(user_symptoms)\n",
    "\n",
    "desc, pre, med, die, wrkout = helper(predicted_disease)\n",
    "\n",
    "print(\"=================Predicted disease============\")\n",
    "print(predicted_disease)\n",
    "print(\"=================Description==================\")\n",
    "print(desc)\n",
    "print(\"=================Precautions==================\")\n",
    "i = 1\n",
    "for p_i in pre[0]:\n",
    "    print(i, \": \", p_i)\n",
    "    i += 1\n",
    "\n",
    "print(\"=================Medications==================\")\n",
    "for m_i in med:\n",
    "    print(i, \": \", m_i)\n",
    "    i += 1\n",
    "\n",
    "print(\"=================Workout==================\")\n",
    "for w_i in wrkout:\n",
    "    print(i, \": \", w_i)\n",
    "    i += 1\n",
    "\n",
    "print(\"=================Diets==================\")\n",
    "for d_i in die:\n",
    "    print(i, \": \", d_i)\n",
    "    i += 1"
   ]
  },
  {
   "cell_type": "code",
   "execution_count": 29,
   "id": "55f6d63c-dff3-4be5-837c-099088bd96b7",
   "metadata": {},
   "outputs": [
    {
     "name": "stdout",
     "output_type": "stream",
     "text": [
      "Symptoms received: itching\n"
     ]
    }
   ],
   "source": [
    "print(\"Symptoms received:\", symptoms)"
   ]
  },
  {
   "cell_type": "code",
   "execution_count": 30,
   "id": "f7a92e0b-6dd3-41c3-828a-909111764e42",
   "metadata": {},
   "outputs": [
    {
     "name": "stdout",
     "output_type": "stream",
     "text": [
      "Available diseases: dict_keys([15, 4, 16, 9, 14, 33, 1, 12, 17, 6, 23, 30, 7, 32, 28, 29, 8, 11, 37, 40, 19, 20, 21, 22, 3, 36, 10, 34, 13, 18, 39, 26, 24, 25, 31, 5, 0, 2, 38, 35, 27])\n"
     ]
    }
   ],
   "source": [
    "print(\"Available diseases:\", diseases_list.keys())"
   ]
  },
  {
   "cell_type": "code",
   "execution_count": 31,
   "id": "3fd959cd-edfd-44b5-a8ac-8610d9931b25",
   "metadata": {},
   "outputs": [
    {
     "name": "stdout",
     "output_type": "stream",
     "text": [
      "1.7.0\n"
     ]
    }
   ],
   "source": [
    "# let's use pycharm flask app\n",
    "# but install this version in pycharm\n",
    "import sklearn\n",
    "print(sklearn.__version__)\n"
   ]
  },
  {
   "cell_type": "code",
   "execution_count": null,
   "id": "3ce88dee-e491-42b5-b249-4e1bc49e22b0",
   "metadata": {},
   "outputs": [],
   "source": []
  },
  {
   "cell_type": "code",
   "execution_count": null,
   "id": "8953e665-3fc9-455e-8ecd-7c0bb774ec3b",
   "metadata": {},
   "outputs": [],
   "source": []
  }
 ],
 "metadata": {
  "kernelspec": {
   "display_name": ".venv",
   "language": "python",
   "name": "python3"
  },
  "language_info": {
   "codemirror_mode": {
    "name": "ipython",
    "version": 3
   },
   "file_extension": ".py",
   "mimetype": "text/x-python",
   "name": "python",
   "nbconvert_exporter": "python",
   "pygments_lexer": "ipython3",
   "version": "3.12.5"
  }
 },
 "nbformat": 4,
 "nbformat_minor": 5
}
